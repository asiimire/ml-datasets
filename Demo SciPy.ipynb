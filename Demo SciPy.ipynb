{
 "cells": [
  {
   "cell_type": "code",
   "execution_count": 1,
   "id": "764eaf04",
   "metadata": {},
   "outputs": [
    {
     "data": {
      "text/plain": [
       "'\\nProblem Statement\\n\\nImport the package linalg from the SciPy library and use the solve method to solve the provided linear equations\\nto find the value of x and y\\n'"
      ]
     },
     "execution_count": 1,
     "metadata": {},
     "output_type": "execute_result"
    }
   ],
   "source": [
    "\"\"\"\n",
    "Problem Statement\n",
    "\n",
    "Import the package linalg from the SciPy library and use the solve method to solve the provided linear equations\n",
    "to find the value of x and y\n",
    "\"\"\""
   ]
  },
  {
   "cell_type": "code",
   "execution_count": 5,
   "id": "b369f270",
   "metadata": {},
   "outputs": [],
   "source": [
    "#import libraries\n",
    "import numpy as np\n",
    "from scipy import      linalg"
   ]
  },
  {
   "cell_type": "code",
   "execution_count": 16,
   "id": "cebbe3e5",
   "metadata": {},
   "outputs": [],
   "source": [
    "#Test has 30 questions and worth 150 marks\n",
    "#True and false questions worth 4 marks each\n",
    "#multiple choice questions worth 9 points each\n",
    "\n",
    "#let x is the number of true / false questions\n",
    "#let y is the number of multiple choice questions\n",
    "\n",
    "#(x + y = 30)\n",
    "#(4x + 9y = 150)\n",
    "testVariable = np.array ([[1,1], [4,9]])\n",
    "testValue = np.array([30, 150])"
   ]
  },
  {
   "cell_type": "code",
   "execution_count": 17,
   "id": "f07d5f39",
   "metadata": {},
   "outputs": [
    {
     "data": {
      "text/plain": [
       "array([24.,  6.])"
      ]
     },
     "execution_count": 17,
     "metadata": {},
     "output_type": "execute_result"
    }
   ],
   "source": [
    "#use linalg function of SciPy\n",
    "#use solve method to solve the linear equation and find the value for x and y\n",
    "linalg.solve((testVariable),( testValue))"
   ]
  },
  {
   "cell_type": "code",
   "execution_count": null,
   "id": "ec49a9e0",
   "metadata": {},
   "outputs": [],
   "source": []
  }
 ],
 "metadata": {
  "kernelspec": {
   "display_name": "Python 3 (ipykernel)",
   "language": "python",
   "name": "python3"
  },
  "language_info": {
   "codemirror_mode": {
    "name": "ipython",
    "version": 3
   },
   "file_extension": ".py",
   "mimetype": "text/x-python",
   "name": "python",
   "nbconvert_exporter": "python",
   "pygments_lexer": "ipython3",
   "version": "3.10.5"
  }
 },
 "nbformat": 4,
 "nbformat_minor": 5
}
